{
 "cells": [
  {
   "cell_type": "markdown",
   "metadata": {},
   "source": [
    "# Lecture 2\n",
    "## Introduction to Sklearn\n",
    "### Getting to know the API\n",
    "\n",
    "<ol>\n",
    "<li> Used data: Iris data set from the Seaborn package ( https://archive.ics.uci.edu/ml/datasets/iris ) /n\n",
    "<li> Notebook Goal: Create a classifier trained on the iris data set using Sklearn.\n",
    "<li> Extra Exercise: Yes, see below.\n",
    "</ol>"
   ]
  },
  {
   "cell_type": "code",
   "execution_count": null,
   "metadata": {},
   "outputs": [],
   "source": [
    "#Necessary imports\n",
    "import seaborn as sns\n",
    "from sklearn.model_selection import train_test_split\n",
    "from sklearn.naive_bayes import GaussianNB\n",
    "from sklearn.metrics import accuracy_score\n"
   ]
  },
  {
   "cell_type": "markdown",
   "metadata": {},
   "source": [
    "We start by loading the data. This is done using the 'load_dataset' method from the seaborn package.\n",
    "Using the head() method returns the five first elements of the dataframe."
   ]
  },
  {
   "cell_type": "code",
   "execution_count": null,
   "metadata": {},
   "outputs": [],
   "source": [
    "iris = sns.load_dataset(\"iris\")\n",
    "iris.head()"
   ]
  },
  {
   "cell_type": "markdown",
   "metadata": {},
   "source": [
    "In this example, we are interested in constructing a classifier that is able to predict the species of the observation using information on the sepal and petal length and width.\n",
    "\n",
    "Recall that the ingredients of an Sklearn classifier (which is supervised) are the following:\n",
    "<ol>\n",
    "<li> A numerical feature matrix\n",
    "<li> A target vector\n",
    "</ol>\n",
    "\n",
    "Since the target vector is in this case the species, we will need to break the data set in the two corresponding parts."
   ]
  },
  {
   "cell_type": "code",
   "execution_count": null,
   "metadata": {},
   "outputs": [],
   "source": [
    "X_iris = iris.drop('species', axis=1, inplace=False)\n",
    "y_iris = iris['species']"
   ]
  },
  {
   "cell_type": "code",
   "execution_count": null,
   "metadata": {},
   "outputs": [],
   "source": [
    "X_iris.head()"
   ]
  },
  {
   "cell_type": "code",
   "execution_count": null,
   "metadata": {},
   "outputs": [],
   "source": [
    "y_iris.head()"
   ]
  },
  {
   "cell_type": "markdown",
   "metadata": {},
   "source": [
    "It is important to always use two data sets: a training data set and a test data set. These data sets need to be disjoint. In this case, the test data set can then be used to evaluate the performance of the model on unseen data. \n",
    "\n",
    "These two data sets can be obtained using the train_test_split method. We will fix the random state so that we always get the same results."
   ]
  },
  {
   "cell_type": "code",
   "execution_count": null,
   "metadata": {},
   "outputs": [],
   "source": [
    "X_train, X_test, ytrain,ytest = train_test_split(X_iris, y_iris, random_state=1)"
   ]
  },
  {
   "cell_type": "markdown",
   "metadata": {},
   "source": [
    "We now follow the recipe as given in the slides!"
   ]
  },
  {
   "cell_type": "code",
   "execution_count": null,
   "metadata": {},
   "outputs": [],
   "source": [
    "model = GaussianNB() #We use the default hyperparameters. If we want to change these, we need to consult the documentation!\n",
    "\n",
    "model.fit(X_train,ytrain)\n",
    "y_model = model.predict(X_test)"
   ]
  },
  {
   "cell_type": "markdown",
   "metadata": {},
   "source": [
    "The model object has now successfully fit to the training data, and is able to predict the species of the test data. In order to evaluate the performance of this classification, we use the accuracy. \n",
    "\n",
    "Recall that the accuracy is given by (# Correct Classification)/(# Total Classifications)"
   ]
  },
  {
   "cell_type": "code",
   "execution_count": null,
   "metadata": {},
   "outputs": [],
   "source": [
    "accuracy_score(ytest,y_model)"
   ]
  },
  {
   "cell_type": "markdown",
   "metadata": {},
   "source": [
    "EXERCISE:\n",
    "\n",
    "Choose any classifier in Sklearn and change the above code to fit this chosen model. Compare your accuracy with the one obtained above."
   ]
  },
  {
   "cell_type": "code",
   "execution_count": null,
   "metadata": {},
   "outputs": [],
   "source": [
    "#Exercise"
   ]
  }
 ],
 "metadata": {
  "kernelspec": {
   "display_name": "Python 3 (ipykernel)",
   "language": "python",
   "name": "python3"
  },
  "language_info": {
   "codemirror_mode": {
    "name": "ipython",
    "version": 3
   },
   "file_extension": ".py",
   "mimetype": "text/x-python",
   "name": "python",
   "nbconvert_exporter": "python",
   "pygments_lexer": "ipython3",
   "version": "3.11.0 (v3.11.0:deaf509e8f, Oct 24 2022, 14:43:23) [Clang 13.0.0 (clang-1300.0.29.30)]"
  },
  "vscode": {
   "interpreter": {
    "hash": "aee8b7b246df8f9039afb4144a1f6fd8d2ca17a180786b69acc140d282b71a49"
   }
  }
 },
 "nbformat": 4,
 "nbformat_minor": 2
}
