{
 "cells": [
  {
   "cell_type": "markdown",
   "metadata": {},
   "source": [
    "# NLP: WordNet\n",
    "WordNet is a lexical database for the English language.\n",
    "\n",
    "* English words are grouped into sets of synonyms **(synsets)**\n",
    "* Provides definitions and examples\n",
    "* Records a number of relations among these synonym sets or their members.\n",
    "\n",
    "For the folloing notebook we need to download WordNet. In a terminal:\n",
    "\n",
    "* `import nltk`\n",
    "* `nltk.download('wordnet')`\n",
    "* `nltk.download('omw')`"
   ]
  },
  {
   "cell_type": "code",
   "execution_count": 2,
   "metadata": {},
   "outputs": [],
   "source": [
    "from nltk.corpus import wordnet as wn"
   ]
  },
  {
   "cell_type": "markdown",
   "metadata": {},
   "source": [
    "#### WordNet supports different languages:"
   ]
  },
  {
   "cell_type": "code",
   "execution_count": 3,
   "metadata": {},
   "outputs": [
    {
     "name": "stdout",
     "output_type": "stream",
     "text": [
      "['eng', 'als', 'arb', 'bul', 'cat', 'cmn', 'dan', 'ell', 'eus', 'fas', 'fin', 'fra', 'glg', 'heb', 'hrv', 'ind', 'ita', 'jpn', 'nld', 'nno', 'nob', 'pol', 'por', 'qcn', 'slv', 'spa', 'swe', 'tha', 'zsm']\n"
     ]
    }
   ],
   "source": [
    "print(wn.langs())"
   ]
  },
  {
   "cell_type": "markdown",
   "metadata": {},
   "source": [
    "<h4>Get the synonyms for the word the stocks</h4>"
   ]
  },
  {
   "cell_type": "code",
   "execution_count": 4,
   "metadata": {},
   "outputs": [
    {
     "name": "stdout",
     "output_type": "stream",
     "text": [
      "There are  27  synsets containing the word stock \n",
      "\n"
     ]
    },
    {
     "data": {
      "text/plain": [
       "[Synset('stock.n.01'),\n",
       " Synset('stock.n.02'),\n",
       " Synset('stock.n.03'),\n",
       " Synset('stock_certificate.n.01'),\n",
       " Synset('store.n.02'),\n",
       " Synset('lineage.n.01'),\n",
       " Synset('breed.n.01'),\n",
       " Synset('broth.n.01'),\n",
       " Synset('stock.n.09'),\n",
       " Synset('stock.n.10'),\n",
       " Synset('stock.n.11'),\n",
       " Synset('stock.n.12'),\n",
       " Synset('malcolm_stock.n.01'),\n",
       " Synset('stock.n.14'),\n",
       " Synset('stock.n.15'),\n",
       " Synset('neckcloth.n.01'),\n",
       " Synset('livestock.n.01'),\n",
       " Synset('stock.v.01'),\n",
       " Synset('stock.v.02'),\n",
       " Synset('stock.v.03'),\n",
       " Synset('stock.v.04'),\n",
       " Synset('stock.v.05'),\n",
       " Synset('stock.v.06'),\n",
       " Synset('sprout.v.02'),\n",
       " Synset('banal.s.01'),\n",
       " Synset('stock.s.02'),\n",
       " Synset('standard.s.05')]"
      ]
     },
     "execution_count": 4,
     "metadata": {},
     "output_type": "execute_result"
    }
   ],
   "source": [
    "word = 'stock'\n",
    "coll = wn.synsets(word)\n",
    "print('There are ',len(coll),' synsets containing the word', word,'\\n')\n",
    "wn.synsets(word)"
   ]
  },
  {
   "cell_type": "markdown",
   "metadata": {},
   "source": [
    "<hr>\n",
    "<br>\n",
    "Browsing through the number of synsets corresponding to a particular word.<br>\n",
    "Let's limit the number of synsets based on the position in the text : NOUN, ADJ and ADV"
   ]
  },
  {
   "cell_type": "code",
   "execution_count": 9,
   "metadata": {},
   "outputs": [
    {
     "data": {
      "text/plain": [
       "[Synset('stock.n.01'),\n",
       " Synset('stock.n.02'),\n",
       " Synset('stock.n.03'),\n",
       " Synset('stock_certificate.n.01'),\n",
       " Synset('store.n.02'),\n",
       " Synset('lineage.n.01'),\n",
       " Synset('breed.n.01'),\n",
       " Synset('broth.n.01'),\n",
       " Synset('stock.n.09'),\n",
       " Synset('stock.n.10'),\n",
       " Synset('stock.n.11'),\n",
       " Synset('stock.n.12'),\n",
       " Synset('malcolm_stock.n.01'),\n",
       " Synset('stock.n.14'),\n",
       " Synset('stock.n.15'),\n",
       " Synset('neckcloth.n.01'),\n",
       " Synset('livestock.n.01')]"
      ]
     },
     "execution_count": 9,
     "metadata": {},
     "output_type": "execute_result"
    }
   ],
   "source": [
    "wn.synsets(word,pos=wn.NOUN)"
   ]
  },
  {
   "cell_type": "markdown",
   "metadata": {},
   "source": [
    "#### Each synset has a definition:"
   ]
  },
  {
   "cell_type": "code",
   "execution_count": 11,
   "metadata": {},
   "outputs": [
    {
     "name": "stdout",
     "output_type": "stream",
     "text": [
      "Synset('stock.n.01') the capital raised by a corporation through the issue of shares entitling holders to an ownership interest (equity) \n",
      "\n",
      "Synset('stock.n.02') the merchandise that a shop has on hand \n",
      "\n",
      "Synset('stock.n.03') the handle of a handgun or the butt end of a rifle or shotgun or part of the support of a machine gun or artillery gun \n",
      "\n",
      "Synset('stock_certificate.n.01') a certificate documenting the shareholder's ownership in the corporation \n",
      "\n",
      "Synset('store.n.02') a supply of something available for future use \n",
      "\n"
     ]
    }
   ],
   "source": [
    "for i in wn.synsets(word,pos=wn.NOUN)[0:5]:\n",
    "    print(i,i.definition(),'\\n')"
   ]
  },
  {
   "cell_type": "markdown",
   "metadata": {},
   "source": [
    "#### Each synset contains one or more lemmas, which represent a specific sense of a specific word.\n",
    "Getting the lemmas from all the synonyms of the word <b>bank</b>"
   ]
  },
  {
   "cell_type": "code",
   "execution_count": 14,
   "metadata": {},
   "outputs": [
    {
     "data": {
      "text/plain": [
       "['stock', 'inventory']"
      ]
     },
     "execution_count": 14,
     "metadata": {},
     "output_type": "execute_result"
    }
   ],
   "source": [
    "wn.synsets('stock')[1].lemma_names()"
   ]
  },
  {
   "cell_type": "markdown",
   "metadata": {},
   "source": [
    "Each synset has also a couple of examples:"
   ]
  },
  {
   "cell_type": "code",
   "execution_count": 15,
   "metadata": {},
   "outputs": [
    {
     "data": {
      "text/plain": [
       "['they carried a vast inventory of hardware',\n",
       " 'they stopped selling in exact sizes in order to reduce inventory']"
      ]
     },
     "execution_count": 15,
     "metadata": {},
     "output_type": "execute_result"
    }
   ],
   "source": [
    "wn.synsets('stock')[1].examples()"
   ]
  },
  {
   "cell_type": "markdown",
   "metadata": {},
   "source": [
    "#### Which is the hypernym of the word stock ?"
   ]
  },
  {
   "cell_type": "code",
   "execution_count": 16,
   "metadata": {},
   "outputs": [
    {
     "data": {
      "text/plain": [
       "[Synset('capital.n.01')]"
      ]
     },
     "execution_count": 16,
     "metadata": {},
     "output_type": "execute_result"
    }
   ],
   "source": [
    "wn.synset('stock.n.01').hypernyms()"
   ]
  },
  {
   "cell_type": "markdown",
   "metadata": {},
   "source": [
    "#### What are the other hypernyms ?"
   ]
  },
  {
   "cell_type": "code",
   "execution_count": 18,
   "metadata": {},
   "outputs": [
    {
     "name": "stdout",
     "output_type": "stream",
     "text": [
      "Synset('stock.n.01')\n",
      "[Synset('capital.n.01')]\n",
      "\n",
      "\n",
      "Synset('stock.n.02')\n",
      "[Synset('merchandise.n.01')]\n",
      "\n",
      "\n",
      "Synset('stock.n.03')\n",
      "[Synset('handle.n.01'), Synset('support.n.10')]\n",
      "\n",
      "\n",
      "Synset('stock_certificate.n.01')\n",
      "[Synset('security.n.04')]\n",
      "\n",
      "\n",
      "Synset('store.n.02')\n",
      "[Synset('accumulation.n.04')]\n",
      "\n",
      "\n"
     ]
    }
   ],
   "source": [
    "for i in wn.synsets('stock',pos=wn.NOUN)[0:5]:\n",
    "    print(i)\n",
    "    print(i.hypernyms())\n",
    "    print('\\n')"
   ]
  },
  {
   "cell_type": "markdown",
   "metadata": {},
   "source": [
    "#### Which is the hyponym of the word stock ? (provide a definition of each one)"
   ]
  },
  {
   "cell_type": "code",
   "execution_count": 19,
   "metadata": {},
   "outputs": [
    {
     "name": "stdout",
     "output_type": "stream",
     "text": [
      "Synset('authorized_shares.n.01') : the maximum number of shares authorized under the terms of a corporation's articles of incorporation \n",
      "\n",
      "Synset('common_stock.n.01') : stock other than preferred stock; entitles the owner to a share of the corporation's profits and a share of the voting power in shareholder elections \n",
      "\n",
      "Synset('common_stock_equivalent.n.01') : preferred stock or convertible bonds or warrants that can be converted into common stock \n",
      "\n",
      "Synset('control_stock.n.01') : shares owned by shareholders who have a controlling interest \n",
      "\n",
      "Synset('float.n.02') : the number of shares outstanding and available for trading by the public \n",
      "\n",
      "Synset('growth_stock.n.01') : stock of a corporation that has had faster than average gains in earnings and is expected to continue to \n",
      "\n",
      "Synset('hot_stock.n.01') : newly issued stock that is in great public demand \n",
      "\n",
      "Synset('no-par-value_stock.n.01') : stock with no par value specified in the corporate charter or on the stock certificate \n",
      "\n",
      "Synset('preferred_stock.n.01') : stock whose holders are guaranteed priority in the payment of dividends but whose holders have no voting rights \n",
      "\n",
      "Synset('quarter_stock.n.01') : stock with a par value of $25/share \n",
      "\n",
      "Synset('treasury_stock.n.01') : stock that has been bought back by the issuing corporation and is available for retirement or resale; it is issued but not outstanding; it cannot vote and pays no dividends \n",
      "\n",
      "Synset('voting_stock.n.01') : shares in a corporation that entitle the shareholder to voting and proxy rights \n",
      "\n",
      "Synset('watered_stock.n.01') : stock representing ownership of overvalued assets; stock of a corporation whose total worth is less than its invested capital \n",
      "\n"
     ]
    }
   ],
   "source": [
    "for w in wn.synset('stock.n.01').hyponyms():\n",
    "    print(w, ':', w.definition(), '\\n')"
   ]
  },
  {
   "cell_type": "markdown",
   "metadata": {},
   "source": [
    "### Similarity between words\n",
    "\n",
    "#### Get the similarity between equity and stock"
   ]
  },
  {
   "cell_type": "code",
   "execution_count": 20,
   "metadata": {},
   "outputs": [
    {
     "name": "stdout",
     "output_type": "stream",
     "text": [
      "0.25\n"
     ]
    }
   ],
   "source": [
    "# Define both words using their first synsets\n",
    "stock = wn.synsets('stock')[0]\n",
    "equity = wn.synsets('equity')[0]\n",
    "print(equity.path_similarity(stock))"
   ]
  },
  {
   "cell_type": "code",
   "execution_count": null,
   "metadata": {},
   "outputs": [],
   "source": []
  }
 ],
 "metadata": {
  "anaconda-cloud": {},
  "kernelspec": {
   "display_name": "Python 3",
   "language": "python",
   "name": "python3"
  },
  "language_info": {
   "codemirror_mode": {
    "name": "ipython",
    "version": 3
   },
   "file_extension": ".py",
   "mimetype": "text/x-python",
   "name": "python",
   "nbconvert_exporter": "python",
   "pygments_lexer": "ipython3",
   "version": "3.8.0"
  },
  "toc": {
   "base_numbering": 1,
   "nav_menu": {},
   "number_sections": true,
   "sideBar": true,
   "skip_h1_title": false,
   "title_cell": "Table of Contents",
   "title_sidebar": "Contents",
   "toc_cell": false,
   "toc_position": {},
   "toc_section_display": true,
   "toc_window_display": false
  },
  "varInspector": {
   "cols": {
    "lenName": 16,
    "lenType": 16,
    "lenVar": 40
   },
   "kernels_config": {
    "python": {
     "delete_cmd_postfix": "",
     "delete_cmd_prefix": "del ",
     "library": "var_list.py",
     "varRefreshCmd": "print(var_dic_list())"
    },
    "r": {
     "delete_cmd_postfix": ") ",
     "delete_cmd_prefix": "rm(",
     "library": "var_list.r",
     "varRefreshCmd": "cat(var_dic_list()) "
    }
   },
   "types_to_exclude": [
    "module",
    "function",
    "builtin_function_or_method",
    "instance",
    "_Feature"
   ],
   "window_display": false
  }
 },
 "nbformat": 4,
 "nbformat_minor": 2
}
